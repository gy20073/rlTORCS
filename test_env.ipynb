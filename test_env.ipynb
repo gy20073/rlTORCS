{
 "cells": [
  {
   "cell_type": "code",
   "execution_count": 129,
   "metadata": {
    "collapsed": false,
    "scrolled": true
   },
   "outputs": [],
   "source": [
    "import py_torcs\n",
    "import random\n",
    "from scipy.misc import imshow\n",
    "import matplotlib.pyplot as plt\n",
    "%matplotlib inline\n",
    "\n",
    "env = py_torcs.TorcsEnv(\"discrete\", server=True)\n",
    "env.reset()\n",
    "for i in range(5000):\n",
    "    # env.step(random.randint(0, 8))\n",
    "    obs, reward, terminal, info = env.step(1)\n",
    "    if terminal:\n",
    "        env.reset()\n",
    "    # env._render()"
   ]
  },
  {
   "cell_type": "code",
   "execution_count": null,
   "metadata": {
    "collapsed": false
   },
   "outputs": [],
   "source": [
    "obs, reward, terminal, info = env.step(1)\n",
    "imgplot = plt.imshow(obs)"
   ]
  },
  {
   "cell_type": "code",
   "execution_count": 131,
   "metadata": {
    "collapsed": true
   },
   "outputs": [],
   "source": [
    "env.close()"
   ]
  }
 ],
 "metadata": {
  "kernelspec": {
   "display_name": "Python 2",
   "language": "python",
   "name": "python2"
  },
  "language_info": {
   "codemirror_mode": {
    "name": "ipython",
    "version": 2
   },
   "file_extension": ".py",
   "mimetype": "text/x-python",
   "name": "python",
   "nbconvert_exporter": "python",
   "pygments_lexer": "ipython2",
   "version": "2.7.13"
  }
 },
 "nbformat": 4,
 "nbformat_minor": 0
}
