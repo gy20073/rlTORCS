{
 "cells": [
  {
   "cell_type": "code",
   "execution_count": null,
   "metadata": {
    "collapsed": false
   },
   "outputs": [],
   "source": [
    "import sys, os, inspect\n",
    "sys.path.insert(0, '../../rlTORCS')\n",
    "import py_torcs\n",
    "#from atari_wrappers import *\n",
    "from gym import wrappers\n",
    "import gym\n",
    "from gym.envs.registration import register\n",
    "\n",
    "import random\n",
    "import matplotlib.pyplot as plt\n",
    "%matplotlib inline\n",
    "\n",
    "\n",
    "\n",
    "register(\n",
    "    id='rltorcs-v0',\n",
    "    entry_point='py_torcs:TorcsEnv',\n",
    "    kwargs={\"subtype\": \"discrete_improved\",\n",
    "            \"server\": True,\n",
    "            \"auto_back\": False,\n",
    "            \"game_config\": os.path.abspath('./game_config/quickrace_discrete_single.xml')}\n",
    ")\n",
    "\n",
    "env = gym.make(\"rltorcs-v0\")\n",
    "#env2 = gym.make(\"rltorcs-v0\")"
   ]
  },
  {
   "cell_type": "code",
   "execution_count": null,
   "metadata": {
    "collapsed": false
   },
   "outputs": [],
   "source": [
    "env.reset()\n",
    "for i in range(1000):\n",
    "    # env.step(random.randint(0, 8))\n",
    "    obs, reward, terminal, info = env.step(1)\n",
    "    if terminal:\n",
    "        env.reset()\n",
    "\n"
   ]
  },
  {
   "cell_type": "code",
   "execution_count": null,
   "metadata": {
    "collapsed": false
   },
   "outputs": [],
   "source": [
    "obs, reward, terminal, info = env.step(1)\n",
    "imgplot = plt.imshow(obs)"
   ]
  },
  {
   "cell_type": "code",
   "execution_count": null,
   "metadata": {
    "collapsed": false
   },
   "outputs": [],
   "source": [
    "env.close()"
   ]
  }
 ],
 "metadata": {
  "kernelspec": {
   "display_name": "Python 2",
   "language": "python",
   "name": "python2"
  },
  "language_info": {
   "codemirror_mode": {
    "name": "ipython",
    "version": 2
   },
   "file_extension": ".py",
   "mimetype": "text/x-python",
   "name": "python",
   "nbconvert_exporter": "python",
   "pygments_lexer": "ipython2",
   "version": "2.7.13"
  }
 },
 "nbformat": 4,
 "nbformat_minor": 0
}
